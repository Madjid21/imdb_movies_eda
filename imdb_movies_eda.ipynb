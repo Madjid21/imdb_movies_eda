{
 "cells": [
  {
   "cell_type": "code",
   "execution_count": 1,
   "id": "30d1abfa",
   "metadata": {},
   "outputs": [],
   "source": [
    "import numpy as np\n",
    "import pandas as pd\n",
    "import matplotlib.pyplot as plt\n",
    "%matplotlib inline"
   ]
  },
  {
   "cell_type": "code",
   "execution_count": 2,
   "id": "59b9b2a3",
   "metadata": {},
   "outputs": [],
   "source": [
    "df = pd.read_csv(\"tmdb-movies.csv\")"
   ]
  },
  {
   "cell_type": "code",
   "execution_count": 3,
   "id": "52efce16",
   "metadata": {},
   "outputs": [
    {
     "data": {
      "text/html": [
       "<div>\n",
       "<style scoped>\n",
       "    .dataframe tbody tr th:only-of-type {\n",
       "        vertical-align: middle;\n",
       "    }\n",
       "\n",
       "    .dataframe tbody tr th {\n",
       "        vertical-align: top;\n",
       "    }\n",
       "\n",
       "    .dataframe thead th {\n",
       "        text-align: right;\n",
       "    }\n",
       "</style>\n",
       "<table border=\"1\" class=\"dataframe\">\n",
       "  <thead>\n",
       "    <tr style=\"text-align: right;\">\n",
       "      <th></th>\n",
       "      <th>id</th>\n",
       "      <th>imdb_id</th>\n",
       "      <th>popularity</th>\n",
       "      <th>budget</th>\n",
       "      <th>revenue</th>\n",
       "      <th>original_title</th>\n",
       "      <th>cast</th>\n",
       "      <th>homepage</th>\n",
       "      <th>director</th>\n",
       "      <th>tagline</th>\n",
       "      <th>...</th>\n",
       "      <th>overview</th>\n",
       "      <th>runtime</th>\n",
       "      <th>genres</th>\n",
       "      <th>production_companies</th>\n",
       "      <th>release_date</th>\n",
       "      <th>vote_count</th>\n",
       "      <th>vote_average</th>\n",
       "      <th>release_year</th>\n",
       "      <th>budget_adj</th>\n",
       "      <th>revenue_adj</th>\n",
       "    </tr>\n",
       "  </thead>\n",
       "  <tbody>\n",
       "    <tr>\n",
       "      <th>0</th>\n",
       "      <td>135397</td>\n",
       "      <td>tt0369610</td>\n",
       "      <td>32.985763</td>\n",
       "      <td>150000000</td>\n",
       "      <td>1513528810</td>\n",
       "      <td>Jurassic World</td>\n",
       "      <td>Chris Pratt|Bryce Dallas Howard|Irrfan Khan|Vi...</td>\n",
       "      <td>http://www.jurassicworld.com/</td>\n",
       "      <td>Colin Trevorrow</td>\n",
       "      <td>The park is open.</td>\n",
       "      <td>...</td>\n",
       "      <td>Twenty-two years after the events of Jurassic ...</td>\n",
       "      <td>124</td>\n",
       "      <td>Action|Adventure|Science Fiction|Thriller</td>\n",
       "      <td>Universal Studios|Amblin Entertainment|Legenda...</td>\n",
       "      <td>6/9/15</td>\n",
       "      <td>5562</td>\n",
       "      <td>6.5</td>\n",
       "      <td>2015</td>\n",
       "      <td>1.379999e+08</td>\n",
       "      <td>1.392446e+09</td>\n",
       "    </tr>\n",
       "    <tr>\n",
       "      <th>1</th>\n",
       "      <td>76341</td>\n",
       "      <td>tt1392190</td>\n",
       "      <td>28.419936</td>\n",
       "      <td>150000000</td>\n",
       "      <td>378436354</td>\n",
       "      <td>Mad Max: Fury Road</td>\n",
       "      <td>Tom Hardy|Charlize Theron|Hugh Keays-Byrne|Nic...</td>\n",
       "      <td>http://www.madmaxmovie.com/</td>\n",
       "      <td>George Miller</td>\n",
       "      <td>What a Lovely Day.</td>\n",
       "      <td>...</td>\n",
       "      <td>An apocalyptic story set in the furthest reach...</td>\n",
       "      <td>120</td>\n",
       "      <td>Action|Adventure|Science Fiction|Thriller</td>\n",
       "      <td>Village Roadshow Pictures|Kennedy Miller Produ...</td>\n",
       "      <td>5/13/15</td>\n",
       "      <td>6185</td>\n",
       "      <td>7.1</td>\n",
       "      <td>2015</td>\n",
       "      <td>1.379999e+08</td>\n",
       "      <td>3.481613e+08</td>\n",
       "    </tr>\n",
       "    <tr>\n",
       "      <th>2</th>\n",
       "      <td>262500</td>\n",
       "      <td>tt2908446</td>\n",
       "      <td>13.112507</td>\n",
       "      <td>110000000</td>\n",
       "      <td>295238201</td>\n",
       "      <td>Insurgent</td>\n",
       "      <td>Shailene Woodley|Theo James|Kate Winslet|Ansel...</td>\n",
       "      <td>http://www.thedivergentseries.movie/#insurgent</td>\n",
       "      <td>Robert Schwentke</td>\n",
       "      <td>One Choice Can Destroy You</td>\n",
       "      <td>...</td>\n",
       "      <td>Beatrice Prior must confront her inner demons ...</td>\n",
       "      <td>119</td>\n",
       "      <td>Adventure|Science Fiction|Thriller</td>\n",
       "      <td>Summit Entertainment|Mandeville Films|Red Wago...</td>\n",
       "      <td>3/18/15</td>\n",
       "      <td>2480</td>\n",
       "      <td>6.3</td>\n",
       "      <td>2015</td>\n",
       "      <td>1.012000e+08</td>\n",
       "      <td>2.716190e+08</td>\n",
       "    </tr>\n",
       "    <tr>\n",
       "      <th>3</th>\n",
       "      <td>140607</td>\n",
       "      <td>tt2488496</td>\n",
       "      <td>11.173104</td>\n",
       "      <td>200000000</td>\n",
       "      <td>2068178225</td>\n",
       "      <td>Star Wars: The Force Awakens</td>\n",
       "      <td>Harrison Ford|Mark Hamill|Carrie Fisher|Adam D...</td>\n",
       "      <td>http://www.starwars.com/films/star-wars-episod...</td>\n",
       "      <td>J.J. Abrams</td>\n",
       "      <td>Every generation has a story.</td>\n",
       "      <td>...</td>\n",
       "      <td>Thirty years after defeating the Galactic Empi...</td>\n",
       "      <td>136</td>\n",
       "      <td>Action|Adventure|Science Fiction|Fantasy</td>\n",
       "      <td>Lucasfilm|Truenorth Productions|Bad Robot</td>\n",
       "      <td>12/15/15</td>\n",
       "      <td>5292</td>\n",
       "      <td>7.5</td>\n",
       "      <td>2015</td>\n",
       "      <td>1.839999e+08</td>\n",
       "      <td>1.902723e+09</td>\n",
       "    </tr>\n",
       "    <tr>\n",
       "      <th>4</th>\n",
       "      <td>168259</td>\n",
       "      <td>tt2820852</td>\n",
       "      <td>9.335014</td>\n",
       "      <td>190000000</td>\n",
       "      <td>1506249360</td>\n",
       "      <td>Furious 7</td>\n",
       "      <td>Vin Diesel|Paul Walker|Jason Statham|Michelle ...</td>\n",
       "      <td>http://www.furious7.com/</td>\n",
       "      <td>James Wan</td>\n",
       "      <td>Vengeance Hits Home</td>\n",
       "      <td>...</td>\n",
       "      <td>Deckard Shaw seeks revenge against Dominic Tor...</td>\n",
       "      <td>137</td>\n",
       "      <td>Action|Crime|Thriller</td>\n",
       "      <td>Universal Pictures|Original Film|Media Rights ...</td>\n",
       "      <td>4/1/15</td>\n",
       "      <td>2947</td>\n",
       "      <td>7.3</td>\n",
       "      <td>2015</td>\n",
       "      <td>1.747999e+08</td>\n",
       "      <td>1.385749e+09</td>\n",
       "    </tr>\n",
       "    <tr>\n",
       "      <th>...</th>\n",
       "      <td>...</td>\n",
       "      <td>...</td>\n",
       "      <td>...</td>\n",
       "      <td>...</td>\n",
       "      <td>...</td>\n",
       "      <td>...</td>\n",
       "      <td>...</td>\n",
       "      <td>...</td>\n",
       "      <td>...</td>\n",
       "      <td>...</td>\n",
       "      <td>...</td>\n",
       "      <td>...</td>\n",
       "      <td>...</td>\n",
       "      <td>...</td>\n",
       "      <td>...</td>\n",
       "      <td>...</td>\n",
       "      <td>...</td>\n",
       "      <td>...</td>\n",
       "      <td>...</td>\n",
       "      <td>...</td>\n",
       "      <td>...</td>\n",
       "    </tr>\n",
       "    <tr>\n",
       "      <th>10861</th>\n",
       "      <td>21</td>\n",
       "      <td>tt0060371</td>\n",
       "      <td>0.080598</td>\n",
       "      <td>0</td>\n",
       "      <td>0</td>\n",
       "      <td>The Endless Summer</td>\n",
       "      <td>Michael Hynson|Robert August|Lord 'Tally Ho' B...</td>\n",
       "      <td>NaN</td>\n",
       "      <td>Bruce Brown</td>\n",
       "      <td>NaN</td>\n",
       "      <td>...</td>\n",
       "      <td>The Endless Summer, by Bruce Brown, is one of ...</td>\n",
       "      <td>95</td>\n",
       "      <td>Documentary</td>\n",
       "      <td>Bruce Brown Films</td>\n",
       "      <td>6/15/66</td>\n",
       "      <td>11</td>\n",
       "      <td>7.4</td>\n",
       "      <td>1966</td>\n",
       "      <td>0.000000e+00</td>\n",
       "      <td>0.000000e+00</td>\n",
       "    </tr>\n",
       "    <tr>\n",
       "      <th>10862</th>\n",
       "      <td>20379</td>\n",
       "      <td>tt0060472</td>\n",
       "      <td>0.065543</td>\n",
       "      <td>0</td>\n",
       "      <td>0</td>\n",
       "      <td>Grand Prix</td>\n",
       "      <td>James Garner|Eva Marie Saint|Yves Montand|Tosh...</td>\n",
       "      <td>NaN</td>\n",
       "      <td>John Frankenheimer</td>\n",
       "      <td>Cinerama sweeps YOU into a drama of speed and ...</td>\n",
       "      <td>...</td>\n",
       "      <td>Grand Prix driver Pete Aron is fired by his te...</td>\n",
       "      <td>176</td>\n",
       "      <td>Action|Adventure|Drama</td>\n",
       "      <td>Cherokee Productions|Joel Productions|Douglas ...</td>\n",
       "      <td>12/21/66</td>\n",
       "      <td>20</td>\n",
       "      <td>5.7</td>\n",
       "      <td>1966</td>\n",
       "      <td>0.000000e+00</td>\n",
       "      <td>0.000000e+00</td>\n",
       "    </tr>\n",
       "    <tr>\n",
       "      <th>10863</th>\n",
       "      <td>39768</td>\n",
       "      <td>tt0060161</td>\n",
       "      <td>0.065141</td>\n",
       "      <td>0</td>\n",
       "      <td>0</td>\n",
       "      <td>Beregis Avtomobilya</td>\n",
       "      <td>Innokentiy Smoktunovskiy|Oleg Efremov|Georgi Z...</td>\n",
       "      <td>NaN</td>\n",
       "      <td>Eldar Ryazanov</td>\n",
       "      <td>NaN</td>\n",
       "      <td>...</td>\n",
       "      <td>An insurance agent who moonlights as a carthie...</td>\n",
       "      <td>94</td>\n",
       "      <td>Mystery|Comedy</td>\n",
       "      <td>Mosfilm</td>\n",
       "      <td>1/1/66</td>\n",
       "      <td>11</td>\n",
       "      <td>6.5</td>\n",
       "      <td>1966</td>\n",
       "      <td>0.000000e+00</td>\n",
       "      <td>0.000000e+00</td>\n",
       "    </tr>\n",
       "    <tr>\n",
       "      <th>10864</th>\n",
       "      <td>21449</td>\n",
       "      <td>tt0061177</td>\n",
       "      <td>0.064317</td>\n",
       "      <td>0</td>\n",
       "      <td>0</td>\n",
       "      <td>What's Up, Tiger Lily?</td>\n",
       "      <td>Tatsuya Mihashi|Akiko Wakabayashi|Mie Hama|Joh...</td>\n",
       "      <td>NaN</td>\n",
       "      <td>Woody Allen</td>\n",
       "      <td>WOODY ALLEN STRIKES BACK!</td>\n",
       "      <td>...</td>\n",
       "      <td>In comic Woody Allen's film debut, he took the...</td>\n",
       "      <td>80</td>\n",
       "      <td>Action|Comedy</td>\n",
       "      <td>Benedict Pictures Corp.</td>\n",
       "      <td>11/2/66</td>\n",
       "      <td>22</td>\n",
       "      <td>5.4</td>\n",
       "      <td>1966</td>\n",
       "      <td>0.000000e+00</td>\n",
       "      <td>0.000000e+00</td>\n",
       "    </tr>\n",
       "    <tr>\n",
       "      <th>10865</th>\n",
       "      <td>22293</td>\n",
       "      <td>tt0060666</td>\n",
       "      <td>0.035919</td>\n",
       "      <td>19000</td>\n",
       "      <td>0</td>\n",
       "      <td>Manos: The Hands of Fate</td>\n",
       "      <td>Harold P. Warren|Tom Neyman|John Reynolds|Dian...</td>\n",
       "      <td>NaN</td>\n",
       "      <td>Harold P. Warren</td>\n",
       "      <td>It's Shocking! It's Beyond Your Imagination!</td>\n",
       "      <td>...</td>\n",
       "      <td>A family gets lost on the road and stumbles up...</td>\n",
       "      <td>74</td>\n",
       "      <td>Horror</td>\n",
       "      <td>Norm-Iris</td>\n",
       "      <td>11/15/66</td>\n",
       "      <td>15</td>\n",
       "      <td>1.5</td>\n",
       "      <td>1966</td>\n",
       "      <td>1.276423e+05</td>\n",
       "      <td>0.000000e+00</td>\n",
       "    </tr>\n",
       "  </tbody>\n",
       "</table>\n",
       "<p>10866 rows × 21 columns</p>\n",
       "</div>"
      ],
      "text/plain": [
       "           id    imdb_id  popularity     budget     revenue  \\\n",
       "0      135397  tt0369610   32.985763  150000000  1513528810   \n",
       "1       76341  tt1392190   28.419936  150000000   378436354   \n",
       "2      262500  tt2908446   13.112507  110000000   295238201   \n",
       "3      140607  tt2488496   11.173104  200000000  2068178225   \n",
       "4      168259  tt2820852    9.335014  190000000  1506249360   \n",
       "...       ...        ...         ...        ...         ...   \n",
       "10861      21  tt0060371    0.080598          0           0   \n",
       "10862   20379  tt0060472    0.065543          0           0   \n",
       "10863   39768  tt0060161    0.065141          0           0   \n",
       "10864   21449  tt0061177    0.064317          0           0   \n",
       "10865   22293  tt0060666    0.035919      19000           0   \n",
       "\n",
       "                     original_title  \\\n",
       "0                    Jurassic World   \n",
       "1                Mad Max: Fury Road   \n",
       "2                         Insurgent   \n",
       "3      Star Wars: The Force Awakens   \n",
       "4                         Furious 7   \n",
       "...                             ...   \n",
       "10861            The Endless Summer   \n",
       "10862                    Grand Prix   \n",
       "10863           Beregis Avtomobilya   \n",
       "10864        What's Up, Tiger Lily?   \n",
       "10865      Manos: The Hands of Fate   \n",
       "\n",
       "                                                    cast  \\\n",
       "0      Chris Pratt|Bryce Dallas Howard|Irrfan Khan|Vi...   \n",
       "1      Tom Hardy|Charlize Theron|Hugh Keays-Byrne|Nic...   \n",
       "2      Shailene Woodley|Theo James|Kate Winslet|Ansel...   \n",
       "3      Harrison Ford|Mark Hamill|Carrie Fisher|Adam D...   \n",
       "4      Vin Diesel|Paul Walker|Jason Statham|Michelle ...   \n",
       "...                                                  ...   \n",
       "10861  Michael Hynson|Robert August|Lord 'Tally Ho' B...   \n",
       "10862  James Garner|Eva Marie Saint|Yves Montand|Tosh...   \n",
       "10863  Innokentiy Smoktunovskiy|Oleg Efremov|Georgi Z...   \n",
       "10864  Tatsuya Mihashi|Akiko Wakabayashi|Mie Hama|Joh...   \n",
       "10865  Harold P. Warren|Tom Neyman|John Reynolds|Dian...   \n",
       "\n",
       "                                                homepage            director  \\\n",
       "0                          http://www.jurassicworld.com/     Colin Trevorrow   \n",
       "1                            http://www.madmaxmovie.com/       George Miller   \n",
       "2         http://www.thedivergentseries.movie/#insurgent    Robert Schwentke   \n",
       "3      http://www.starwars.com/films/star-wars-episod...         J.J. Abrams   \n",
       "4                               http://www.furious7.com/           James Wan   \n",
       "...                                                  ...                 ...   \n",
       "10861                                                NaN         Bruce Brown   \n",
       "10862                                                NaN  John Frankenheimer   \n",
       "10863                                                NaN      Eldar Ryazanov   \n",
       "10864                                                NaN         Woody Allen   \n",
       "10865                                                NaN    Harold P. Warren   \n",
       "\n",
       "                                                 tagline  ...  \\\n",
       "0                                      The park is open.  ...   \n",
       "1                                     What a Lovely Day.  ...   \n",
       "2                             One Choice Can Destroy You  ...   \n",
       "3                          Every generation has a story.  ...   \n",
       "4                                    Vengeance Hits Home  ...   \n",
       "...                                                  ...  ...   \n",
       "10861                                                NaN  ...   \n",
       "10862  Cinerama sweeps YOU into a drama of speed and ...  ...   \n",
       "10863                                                NaN  ...   \n",
       "10864                          WOODY ALLEN STRIKES BACK!  ...   \n",
       "10865       It's Shocking! It's Beyond Your Imagination!  ...   \n",
       "\n",
       "                                                overview runtime  \\\n",
       "0      Twenty-two years after the events of Jurassic ...     124   \n",
       "1      An apocalyptic story set in the furthest reach...     120   \n",
       "2      Beatrice Prior must confront her inner demons ...     119   \n",
       "3      Thirty years after defeating the Galactic Empi...     136   \n",
       "4      Deckard Shaw seeks revenge against Dominic Tor...     137   \n",
       "...                                                  ...     ...   \n",
       "10861  The Endless Summer, by Bruce Brown, is one of ...      95   \n",
       "10862  Grand Prix driver Pete Aron is fired by his te...     176   \n",
       "10863  An insurance agent who moonlights as a carthie...      94   \n",
       "10864  In comic Woody Allen's film debut, he took the...      80   \n",
       "10865  A family gets lost on the road and stumbles up...      74   \n",
       "\n",
       "                                          genres  \\\n",
       "0      Action|Adventure|Science Fiction|Thriller   \n",
       "1      Action|Adventure|Science Fiction|Thriller   \n",
       "2             Adventure|Science Fiction|Thriller   \n",
       "3       Action|Adventure|Science Fiction|Fantasy   \n",
       "4                          Action|Crime|Thriller   \n",
       "...                                          ...   \n",
       "10861                                Documentary   \n",
       "10862                     Action|Adventure|Drama   \n",
       "10863                             Mystery|Comedy   \n",
       "10864                              Action|Comedy   \n",
       "10865                                     Horror   \n",
       "\n",
       "                                    production_companies release_date  \\\n",
       "0      Universal Studios|Amblin Entertainment|Legenda...       6/9/15   \n",
       "1      Village Roadshow Pictures|Kennedy Miller Produ...      5/13/15   \n",
       "2      Summit Entertainment|Mandeville Films|Red Wago...      3/18/15   \n",
       "3              Lucasfilm|Truenorth Productions|Bad Robot     12/15/15   \n",
       "4      Universal Pictures|Original Film|Media Rights ...       4/1/15   \n",
       "...                                                  ...          ...   \n",
       "10861                                  Bruce Brown Films      6/15/66   \n",
       "10862  Cherokee Productions|Joel Productions|Douglas ...     12/21/66   \n",
       "10863                                            Mosfilm       1/1/66   \n",
       "10864                            Benedict Pictures Corp.      11/2/66   \n",
       "10865                                          Norm-Iris     11/15/66   \n",
       "\n",
       "      vote_count  vote_average  release_year    budget_adj   revenue_adj  \n",
       "0           5562           6.5          2015  1.379999e+08  1.392446e+09  \n",
       "1           6185           7.1          2015  1.379999e+08  3.481613e+08  \n",
       "2           2480           6.3          2015  1.012000e+08  2.716190e+08  \n",
       "3           5292           7.5          2015  1.839999e+08  1.902723e+09  \n",
       "4           2947           7.3          2015  1.747999e+08  1.385749e+09  \n",
       "...          ...           ...           ...           ...           ...  \n",
       "10861         11           7.4          1966  0.000000e+00  0.000000e+00  \n",
       "10862         20           5.7          1966  0.000000e+00  0.000000e+00  \n",
       "10863         11           6.5          1966  0.000000e+00  0.000000e+00  \n",
       "10864         22           5.4          1966  0.000000e+00  0.000000e+00  \n",
       "10865         15           1.5          1966  1.276423e+05  0.000000e+00  \n",
       "\n",
       "[10866 rows x 21 columns]"
      ]
     },
     "execution_count": 3,
     "metadata": {},
     "output_type": "execute_result"
    }
   ],
   "source": [
    "df"
   ]
  },
  {
   "cell_type": "code",
   "execution_count": 4,
   "id": "6424f160",
   "metadata": {},
   "outputs": [
    {
     "data": {
      "text/plain": [
       "(10866, 21)"
      ]
     },
     "execution_count": 4,
     "metadata": {},
     "output_type": "execute_result"
    }
   ],
   "source": [
    "df.shape"
   ]
  },
  {
   "cell_type": "code",
   "execution_count": 5,
   "id": "c0cfc3cc",
   "metadata": {},
   "outputs": [
    {
     "data": {
      "text/plain": [
       "Index(['id', 'imdb_id', 'popularity', 'budget', 'revenue', 'original_title',\n",
       "       'cast', 'homepage', 'director', 'tagline', 'keywords', 'overview',\n",
       "       'runtime', 'genres', 'production_companies', 'release_date',\n",
       "       'vote_count', 'vote_average', 'release_year', 'budget_adj',\n",
       "       'revenue_adj'],\n",
       "      dtype='object')"
      ]
     },
     "execution_count": 5,
     "metadata": {},
     "output_type": "execute_result"
    }
   ],
   "source": [
    "df.keys()"
   ]
  },
  {
   "cell_type": "code",
   "execution_count": 6,
   "id": "865418ca",
   "metadata": {},
   "outputs": [
    {
     "name": "stdout",
     "output_type": "stream",
     "text": [
      "<class 'pandas.core.frame.DataFrame'>\n",
      "RangeIndex: 10866 entries, 0 to 10865\n",
      "Data columns (total 21 columns):\n",
      " #   Column                Non-Null Count  Dtype  \n",
      "---  ------                --------------  -----  \n",
      " 0   id                    10866 non-null  int64  \n",
      " 1   imdb_id               10856 non-null  object \n",
      " 2   popularity            10866 non-null  float64\n",
      " 3   budget                10866 non-null  int64  \n",
      " 4   revenue               10866 non-null  int64  \n",
      " 5   original_title        10866 non-null  object \n",
      " 6   cast                  10790 non-null  object \n",
      " 7   homepage              2936 non-null   object \n",
      " 8   director              10822 non-null  object \n",
      " 9   tagline               8042 non-null   object \n",
      " 10  keywords              9373 non-null   object \n",
      " 11  overview              10862 non-null  object \n",
      " 12  runtime               10866 non-null  int64  \n",
      " 13  genres                10843 non-null  object \n",
      " 14  production_companies  9836 non-null   object \n",
      " 15  release_date          10866 non-null  object \n",
      " 16  vote_count            10866 non-null  int64  \n",
      " 17  vote_average          10866 non-null  float64\n",
      " 18  release_year          10866 non-null  int64  \n",
      " 19  budget_adj            10866 non-null  float64\n",
      " 20  revenue_adj           10866 non-null  float64\n",
      "dtypes: float64(4), int64(6), object(11)\n",
      "memory usage: 1.7+ MB\n"
     ]
    }
   ],
   "source": [
    "df.info()"
   ]
  },
  {
   "cell_type": "code",
   "execution_count": 7,
   "id": "1ab5fdf8",
   "metadata": {},
   "outputs": [
    {
     "data": {
      "text/plain": [
       "id                         0\n",
       "imdb_id                   10\n",
       "popularity                 0\n",
       "budget                     0\n",
       "revenue                    0\n",
       "original_title             0\n",
       "cast                      76\n",
       "homepage                7930\n",
       "director                  44\n",
       "tagline                 2824\n",
       "keywords                1493\n",
       "overview                   4\n",
       "runtime                    0\n",
       "genres                    23\n",
       "production_companies    1030\n",
       "release_date               0\n",
       "vote_count                 0\n",
       "vote_average               0\n",
       "release_year               0\n",
       "budget_adj                 0\n",
       "revenue_adj                0\n",
       "dtype: int64"
      ]
     },
     "execution_count": 7,
     "metadata": {},
     "output_type": "execute_result"
    }
   ],
   "source": [
    "df.isnull().sum()"
   ]
  },
  {
   "cell_type": "markdown",
   "id": "3907544f",
   "metadata": {},
   "source": [
    "display only columns that contain nulls "
   ]
  },
  {
   "cell_type": "code",
   "execution_count": 8,
   "id": "78356964",
   "metadata": {},
   "outputs": [
    {
     "data": {
      "text/plain": [
       "imdb_id                   10\n",
       "cast                      76\n",
       "homepage                7930\n",
       "director                  44\n",
       "tagline                 2824\n",
       "keywords                1493\n",
       "overview                   4\n",
       "genres                    23\n",
       "production_companies    1030\n",
       "dtype: int64"
      ]
     },
     "execution_count": 8,
     "metadata": {},
     "output_type": "execute_result"
    }
   ],
   "source": [
    "missing = df.isnull().sum()[df.isnull().sum() > 0] \n",
    "missing"
   ]
  },
  {
   "cell_type": "code",
   "execution_count": 9,
   "id": "f6fd3a8c",
   "metadata": {},
   "outputs": [
    {
     "data": {
      "text/plain": [
       "overview                   4\n",
       "imdb_id                   10\n",
       "genres                    23\n",
       "director                  44\n",
       "cast                      76\n",
       "production_companies    1030\n",
       "keywords                1493\n",
       "tagline                 2824\n",
       "homepage                7930\n",
       "dtype: int64"
      ]
     },
     "execution_count": 9,
     "metadata": {},
     "output_type": "execute_result"
    }
   ],
   "source": [
    "missing = missing.sort_values()\n",
    "missing"
   ]
  },
  {
   "cell_type": "code",
   "execution_count": 10,
   "id": "a3fff7f9",
   "metadata": {},
   "outputs": [
    {
     "data": {
      "image/png": "[encoded data removed]",
      "text/plain": [
       "<Figure size 1500x700 with 1 Axes>"
      ]
     },
     "metadata": {},
     "output_type": "display_data"
    }
   ],
   "source": [
    "plt.figure(figsize=(15, 7))\n",
    "\n",
    "plt.title('number of missing values in each column')\n",
    "#plt.bar(missing.keys(),missing.values)\n",
    "plt.bar_label(plt.bar(missing.keys(),missing.values)) #dislays the actual value above each bar\n",
    "plt.xticks(rotation=45)\n",
    "plt.tight_layout()\n",
    "plt.show()"
   ]
  },
  {
   "cell_type": "code",
   "execution_count": 11,
   "id": "b02a5ecc",
   "metadata": {},
   "outputs": [
    {
     "data": {
      "text/html": [
       "<div>\n",
       "<style scoped>\n",
       "    .dataframe tbody tr th:only-of-type {\n",
       "        vertical-align: middle;\n",
       "    }\n",
       "\n",
       "    .dataframe tbody tr th {\n",
       "        vertical-align: top;\n",
       "    }\n",
       "\n",
       "    .dataframe thead th {\n",
       "        text-align: right;\n",
       "    }\n",
       "</style>\n",
       "<table border=\"1\" class=\"dataframe\">\n",
       "  <thead>\n",
       "    <tr style=\"text-align: right;\">\n",
       "      <th></th>\n",
       "      <th>id</th>\n",
       "      <th>imdb_id</th>\n",
       "      <th>popularity</th>\n",
       "      <th>budget</th>\n",
       "      <th>revenue</th>\n",
       "      <th>original_title</th>\n",
       "      <th>cast</th>\n",
       "      <th>homepage</th>\n",
       "      <th>director</th>\n",
       "      <th>tagline</th>\n",
       "      <th>...</th>\n",
       "      <th>overview</th>\n",
       "      <th>runtime</th>\n",
       "      <th>genres</th>\n",
       "      <th>production_companies</th>\n",
       "      <th>release_date</th>\n",
       "      <th>vote_count</th>\n",
       "      <th>vote_average</th>\n",
       "      <th>release_year</th>\n",
       "      <th>budget_adj</th>\n",
       "      <th>revenue_adj</th>\n",
       "    </tr>\n",
       "  </thead>\n",
       "  <tbody>\n",
       "    <tr>\n",
       "      <th>2090</th>\n",
       "      <td>42194</td>\n",
       "      <td>tt0411951</td>\n",
       "      <td>0.59643</td>\n",
       "      <td>30000000</td>\n",
       "      <td>967000</td>\n",
       "      <td>TEKKEN</td>\n",
       "      <td>Jon Foo|Kelly Overton|Cary-Hiroyuki Tagawa|Ian...</td>\n",
       "      <td>NaN</td>\n",
       "      <td>Dwight H. Little</td>\n",
       "      <td>Survival is no game</td>\n",
       "      <td>...</td>\n",
       "      <td>In the year of 2039, after World Wars destroy ...</td>\n",
       "      <td>92</td>\n",
       "      <td>Crime|Drama|Action|Thriller|Science Fiction</td>\n",
       "      <td>Namco|Light Song Films</td>\n",
       "      <td>3/20/10</td>\n",
       "      <td>110</td>\n",
       "      <td>5.0</td>\n",
       "      <td>2010</td>\n",
       "      <td>30000000.0</td>\n",
       "      <td>967000.0</td>\n",
       "    </tr>\n",
       "  </tbody>\n",
       "</table>\n",
       "<p>1 rows × 21 columns</p>\n",
       "</div>"
      ],
      "text/plain": [
       "         id    imdb_id  popularity    budget  revenue original_title  \\\n",
       "2090  42194  tt0411951     0.59643  30000000   967000         TEKKEN   \n",
       "\n",
       "                                                   cast homepage  \\\n",
       "2090  Jon Foo|Kelly Overton|Cary-Hiroyuki Tagawa|Ian...      NaN   \n",
       "\n",
       "              director              tagline  ...  \\\n",
       "2090  Dwight H. Little  Survival is no game  ...   \n",
       "\n",
       "                                               overview runtime  \\\n",
       "2090  In the year of 2039, after World Wars destroy ...      92   \n",
       "\n",
       "                                           genres    production_companies  \\\n",
       "2090  Crime|Drama|Action|Thriller|Science Fiction  Namco|Light Song Films   \n",
       "\n",
       "     release_date vote_count  vote_average  release_year  budget_adj  \\\n",
       "2090      3/20/10        110           5.0          2010  30000000.0   \n",
       "\n",
       "      revenue_adj  \n",
       "2090     967000.0  \n",
       "\n",
       "[1 rows x 21 columns]"
      ]
     },
     "execution_count": 11,
     "metadata": {},
     "output_type": "execute_result"
    }
   ],
   "source": [
    "df[df.duplicated()== True]"
   ]
  },
  {
   "cell_type": "code",
   "execution_count": 12,
   "id": "df4db437",
   "metadata": {},
   "outputs": [
    {
     "data": {
      "text/plain": [
       "(10865, 21)"
      ]
     },
     "execution_count": 12,
     "metadata": {},
     "output_type": "execute_result"
    }
   ],
   "source": [
    "df.drop_duplicates(inplace = True)\n",
    "df.shape"
   ]
  },
  {
   "cell_type": "code",
   "execution_count": 13,
   "id": "3922ffa1",
   "metadata": {},
   "outputs": [
    {
     "data": {
      "text/html": [
       "<div>\n",
       "<style scoped>\n",
       "    .dataframe tbody tr th:only-of-type {\n",
       "        vertical-align: middle;\n",
       "    }\n",
       "\n",
       "    .dataframe tbody tr th {\n",
       "        vertical-align: top;\n",
       "    }\n",
       "\n",
       "    .dataframe thead th {\n",
       "        text-align: right;\n",
       "    }\n",
       "</style>\n",
       "<table border=\"1\" class=\"dataframe\">\n",
       "  <thead>\n",
       "    <tr style=\"text-align: right;\">\n",
       "      <th></th>\n",
       "      <th>id</th>\n",
       "      <th>popularity</th>\n",
       "      <th>budget</th>\n",
       "      <th>revenue</th>\n",
       "      <th>runtime</th>\n",
       "      <th>vote_count</th>\n",
       "      <th>vote_average</th>\n",
       "      <th>release_year</th>\n",
       "      <th>budget_adj</th>\n",
       "      <th>revenue_adj</th>\n",
       "    </tr>\n",
       "  </thead>\n",
       "  <tbody>\n",
       "    <tr>\n",
       "      <th>count</th>\n",
       "      <td>10865.000000</td>\n",
       "      <td>10865.000000</td>\n",
       "      <td>1.086500e+04</td>\n",
       "      <td>1.086500e+04</td>\n",
       "      <td>10865.000000</td>\n",
       "      <td>10865.000000</td>\n",
       "      <td>10865.000000</td>\n",
       "      <td>10865.000000</td>\n",
       "      <td>1.086500e+04</td>\n",
       "      <td>1.086500e+04</td>\n",
       "    </tr>\n",
       "    <tr>\n",
       "      <th>mean</th>\n",
       "      <td>66066.374413</td>\n",
       "      <td>0.646446</td>\n",
       "      <td>1.462429e+07</td>\n",
       "      <td>3.982690e+07</td>\n",
       "      <td>102.071790</td>\n",
       "      <td>217.399632</td>\n",
       "      <td>5.975012</td>\n",
       "      <td>2001.321859</td>\n",
       "      <td>1.754989e+07</td>\n",
       "      <td>5.136900e+07</td>\n",
       "    </tr>\n",
       "    <tr>\n",
       "      <th>std</th>\n",
       "      <td>92134.091971</td>\n",
       "      <td>1.000231</td>\n",
       "      <td>3.091428e+07</td>\n",
       "      <td>1.170083e+08</td>\n",
       "      <td>31.382701</td>\n",
       "      <td>575.644627</td>\n",
       "      <td>0.935138</td>\n",
       "      <td>12.813260</td>\n",
       "      <td>3.430753e+07</td>\n",
       "      <td>1.446383e+08</td>\n",
       "    </tr>\n",
       "    <tr>\n",
       "      <th>min</th>\n",
       "      <td>5.000000</td>\n",
       "      <td>0.000065</td>\n",
       "      <td>0.000000e+00</td>\n",
       "      <td>0.000000e+00</td>\n",
       "      <td>0.000000</td>\n",
       "      <td>10.000000</td>\n",
       "      <td>1.500000</td>\n",
       "      <td>1960.000000</td>\n",
       "      <td>0.000000e+00</td>\n",
       "      <td>0.000000e+00</td>\n",
       "    </tr>\n",
       "    <tr>\n",
       "      <th>25%</th>\n",
       "      <td>10596.000000</td>\n",
       "      <td>0.207575</td>\n",
       "      <td>0.000000e+00</td>\n",
       "      <td>0.000000e+00</td>\n",
       "      <td>90.000000</td>\n",
       "      <td>17.000000</td>\n",
       "      <td>5.400000</td>\n",
       "      <td>1995.000000</td>\n",
       "      <td>0.000000e+00</td>\n",
       "      <td>0.000000e+00</td>\n",
       "    </tr>\n",
       "    <tr>\n",
       "      <th>50%</th>\n",
       "      <td>20662.000000</td>\n",
       "      <td>0.383831</td>\n",
       "      <td>0.000000e+00</td>\n",
       "      <td>0.000000e+00</td>\n",
       "      <td>99.000000</td>\n",
       "      <td>38.000000</td>\n",
       "      <td>6.000000</td>\n",
       "      <td>2006.000000</td>\n",
       "      <td>0.000000e+00</td>\n",
       "      <td>0.000000e+00</td>\n",
       "    </tr>\n",
       "    <tr>\n",
       "      <th>75%</th>\n",
       "      <td>75612.000000</td>\n",
       "      <td>0.713857</td>\n",
       "      <td>1.500000e+07</td>\n",
       "      <td>2.400000e+07</td>\n",
       "      <td>111.000000</td>\n",
       "      <td>146.000000</td>\n",
       "      <td>6.600000</td>\n",
       "      <td>2011.000000</td>\n",
       "      <td>2.085325e+07</td>\n",
       "      <td>3.370173e+07</td>\n",
       "    </tr>\n",
       "    <tr>\n",
       "      <th>max</th>\n",
       "      <td>417859.000000</td>\n",
       "      <td>32.985763</td>\n",
       "      <td>4.250000e+08</td>\n",
       "      <td>2.781506e+09</td>\n",
       "      <td>900.000000</td>\n",
       "      <td>9767.000000</td>\n",
       "      <td>9.200000</td>\n",
       "      <td>2015.000000</td>\n",
       "      <td>4.250000e+08</td>\n",
       "      <td>2.827124e+09</td>\n",
       "    </tr>\n",
       "  </tbody>\n",
       "</table>\n",
       "</div>"
      ],
      "text/plain": [
       "                  id    popularity        budget       revenue       runtime  \\\n",
       "count   10865.000000  10865.000000  1.086500e+04  1.086500e+04  10865.000000   \n",
       "mean    66066.374413      0.646446  1.462429e+07  3.982690e+07    102.071790   \n",
       "std     92134.091971      1.000231  3.091428e+07  1.170083e+08     31.382701   \n",
       "min         5.000000      0.000065  0.000000e+00  0.000000e+00      0.000000   \n",
       "25%     10596.000000      0.207575  0.000000e+00  0.000000e+00     90.000000   \n",
       "50%     20662.000000      0.383831  0.000000e+00  0.000000e+00     99.000000   \n",
       "75%     75612.000000      0.713857  1.500000e+07  2.400000e+07    111.000000   \n",
       "max    417859.000000     32.985763  4.250000e+08  2.781506e+09    900.000000   \n",
       "\n",
       "         vote_count  vote_average  release_year    budget_adj   revenue_adj  \n",
       "count  10865.000000  10865.000000  10865.000000  1.086500e+04  1.086500e+04  \n",
       "mean     217.399632      5.975012   2001.321859  1.754989e+07  5.136900e+07  \n",
       "std      575.644627      0.935138     12.813260  3.430753e+07  1.446383e+08  \n",
       "min       10.000000      1.500000   1960.000000  0.000000e+00  0.000000e+00  \n",
       "25%       17.000000      5.400000   1995.000000  0.000000e+00  0.000000e+00  \n",
       "50%       38.000000      6.000000   2006.000000  0.000000e+00  0.000000e+00  \n",
       "75%      146.000000      6.600000   2011.000000  2.085325e+07  3.370173e+07  \n",
       "max     9767.000000      9.200000   2015.000000  4.250000e+08  2.827124e+09  "
      ]
     },
     "execution_count": 13,
     "metadata": {},
     "output_type": "execute_result"
    }
   ],
   "source": [
    "df.describe()"
   ]
  },
  {
   "cell_type": "markdown",
   "id": "da570dba",
   "metadata": {},
   "source": [
    "more than 50% of the movies have missing values of revenue and budget"
   ]
  },
  {
   "cell_type": "code",
   "execution_count": 14,
   "id": "46f6469e",
   "metadata": {},
   "outputs": [
    {
     "data": {
      "text/plain": [
       "'55.37045559134837%'"
      ]
     },
     "execution_count": 14,
     "metadata": {},
     "output_type": "execute_result"
    }
   ],
   "source": [
    "str(df[df[\"revenue\"]== 0].shape[0] / df.shape[0] * 100) +'%'"
   ]
  },
  {
   "cell_type": "code",
   "execution_count": 15,
   "id": "74836858",
   "metadata": {},
   "outputs": [
    {
     "data": {
      "text/plain": [
       "'52.425218591808566%'"
      ]
     },
     "execution_count": 15,
     "metadata": {},
     "output_type": "execute_result"
    }
   ],
   "source": [
    "str(df[df[\"budget\"]== 0].shape[0] / df.shape[0] * 100) +'%'"
   ]
  },
  {
   "cell_type": "code",
   "execution_count": 16,
   "id": "63be0607",
   "metadata": {},
   "outputs": [
    {
     "data": {
      "text/plain": [
       "31"
      ]
     },
     "execution_count": 16,
     "metadata": {},
     "output_type": "execute_result"
    }
   ],
   "source": [
    "df[df[\"runtime\"]== 0].shape[0]"
   ]
  },
  {
   "cell_type": "markdown",
   "id": "e174d737",
   "metadata": {},
   "source": [
    "# Data cleaning"
   ]
  },
  {
   "cell_type": "code",
   "execution_count": 17,
   "id": "4e9fce3a",
   "metadata": {},
   "outputs": [],
   "source": [
    "df[\"release_date\"] = df[\"release_date\"].str[0:-2] + df[\"release_year\"].astype('str')\n"
   ]
  },
  {
   "cell_type": "code",
   "execution_count": 18,
   "id": "59d2b7d5",
   "metadata": {},
   "outputs": [
    {
     "data": {
      "text/plain": [
       "0          6/9/2015\n",
       "1         5/13/2015\n",
       "2         3/18/2015\n",
       "3        12/15/2015\n",
       "4          4/1/2015\n",
       "            ...    \n",
       "10861     6/15/1966\n",
       "10862    12/21/1966\n",
       "10863      1/1/1966\n",
       "10864     11/2/1966\n",
       "10865    11/15/1966\n",
       "Name: release_date, Length: 10865, dtype: object"
      ]
     },
     "execution_count": 18,
     "metadata": {},
     "output_type": "execute_result"
    }
   ],
   "source": [
    "df[\"release_date\"]"
   ]
  },
  {
   "cell_type": "code",
   "execution_count": 19,
   "id": "96f7c177",
   "metadata": {},
   "outputs": [
    {
     "data": {
      "text/plain": [
       "0       2015-06-09\n",
       "1       2015-05-13\n",
       "2       2015-03-18\n",
       "3       2015-12-15\n",
       "4       2015-04-01\n",
       "           ...    \n",
       "10861   1966-06-15\n",
       "10862   1966-12-21\n",
       "10863   1966-01-01\n",
       "10864   1966-11-02\n",
       "10865   1966-11-15\n",
       "Name: release_date, Length: 10865, dtype: datetime64[ns]"
      ]
     },
     "execution_count": 19,
     "metadata": {},
     "output_type": "execute_result"
    }
   ],
   "source": [
    "df['release_date'] = pd.to_datetime(df[\"release_date\"],format='%m/%d/%Y')\n",
    "df[\"release_date\"]"
   ]
  },
  {
   "cell_type": "code",
   "execution_count": 21,
   "id": "05d07024",
   "metadata": {},
   "outputs": [
    {
     "data": {
      "text/plain": [
       "'2015'"
      ]
     },
     "execution_count": 21,
     "metadata": {},
     "output_type": "execute_result"
    }
   ],
   "source": [
    "str(df.loc[0][\"release_year\"])\n"
   ]
  },
  {
   "cell_type": "markdown",
   "id": "6356518f",
   "metadata": {},
   "source": [
    "## Replace missing data of budget and revenue by the mean values of budget and revenue of all movies made that year"
   ]
  },
  {
   "cell_type": "code",
   "execution_count": 20,
   "id": "d27e326f",
   "metadata": {},
   "outputs": [
    {
     "name": "stdout",
     "output_type": "stream",
     "text": [
      "12077182.125596184\n",
      "42547616.08585056\n"
     ]
    },
    {
     "name": "stderr",
     "output_type": "stream",
     "text": [
      "C:\\Users\\Madjid\\AppData\\Local\\Temp\\ipykernel_1160\\2143436899.py:2: FutureWarning: The default value of numeric_only in DataFrameGroupBy.mean is deprecated. In a future version, numeric_only will default to False. Either specify numeric_only or select only columns which should be valid for the function.\n",
      "  y= y_data.resample('Y').mean()\n"
     ]
    }
   ],
   "source": [
    "y_data = df.set_index('release_date')\n",
    "y= y_data.resample('Y').mean()\n",
    "budget_mean = y[\"budget\"]\n",
    "revenue_mean = y[\"revenue\"]\n",
    "print(budget_mean[str(df.loc[0][\"release_year\"])][0])\n",
    "print(revenue_mean[str(df.loc[0][\"release_year\"])][0])"
   ]
  },
  {
   "cell_type": "code",
   "execution_count": 21,
   "id": "3ca97068",
   "metadata": {
    "scrolled": true
   },
   "outputs": [
    {
     "data": {
      "text/html": [
       "<div>\n",
       "<style scoped>\n",
       "    .dataframe tbody tr th:only-of-type {\n",
       "        vertical-align: middle;\n",
       "    }\n",
       "\n",
       "    .dataframe tbody tr th {\n",
       "        vertical-align: top;\n",
       "    }\n",
       "\n",
       "    .dataframe thead th {\n",
       "        text-align: right;\n",
       "    }\n",
       "</style>\n",
       "<table border=\"1\" class=\"dataframe\">\n",
       "  <thead>\n",
       "    <tr style=\"text-align: right;\">\n",
       "      <th></th>\n",
       "      <th>budget</th>\n",
       "      <th>revenue</th>\n",
       "    </tr>\n",
       "  </thead>\n",
       "  <tbody>\n",
       "    <tr>\n",
       "      <th>count</th>\n",
       "      <td>1.086500e+04</td>\n",
       "      <td>1.086500e+04</td>\n",
       "    </tr>\n",
       "    <tr>\n",
       "      <th>mean</th>\n",
       "      <td>2.188967e+07</td>\n",
       "      <td>6.143101e+07</td>\n",
       "    </tr>\n",
       "    <tr>\n",
       "      <th>std</th>\n",
       "      <td>2.847848e+07</td>\n",
       "      <td>1.114198e+08</td>\n",
       "    </tr>\n",
       "    <tr>\n",
       "      <th>min</th>\n",
       "      <td>1.000000e+00</td>\n",
       "      <td>2.000000e+00</td>\n",
       "    </tr>\n",
       "    <tr>\n",
       "      <th>25%</th>\n",
       "      <td>8.000000e+06</td>\n",
       "      <td>2.292190e+07</td>\n",
       "    </tr>\n",
       "    <tr>\n",
       "      <th>50%</th>\n",
       "      <td>1.500000e+07</td>\n",
       "      <td>4.027214e+07</td>\n",
       "    </tr>\n",
       "    <tr>\n",
       "      <th>75%</th>\n",
       "      <td>2.220590e+07</td>\n",
       "      <td>5.000000e+07</td>\n",
       "    </tr>\n",
       "    <tr>\n",
       "      <th>max</th>\n",
       "      <td>4.250000e+08</td>\n",
       "      <td>2.781506e+09</td>\n",
       "    </tr>\n",
       "  </tbody>\n",
       "</table>\n",
       "</div>"
      ],
      "text/plain": [
       "             budget       revenue\n",
       "count  1.086500e+04  1.086500e+04\n",
       "mean   2.188967e+07  6.143101e+07\n",
       "std    2.847848e+07  1.114198e+08\n",
       "min    1.000000e+00  2.000000e+00\n",
       "25%    8.000000e+06  2.292190e+07\n",
       "50%    1.500000e+07  4.027214e+07\n",
       "75%    2.220590e+07  5.000000e+07\n",
       "max    4.250000e+08  2.781506e+09"
      ]
     },
     "execution_count": 21,
     "metadata": {},
     "output_type": "execute_result"
    }
   ],
   "source": [
    "\n",
    "df['budget'] = df.apply(lambda row: budget_mean[str(row[\"release_year\"])][0] if row['budget'] <= 0 else row['budget'], axis=1)\n",
    "df['revenue'] = df.apply(lambda row: revenue_mean[str(row[\"release_year\"])][0] if row['revenue'] <= 0 else row['revenue'], axis=1)\n",
    "df[['budget','revenue']].describe()\n",
    "\n"
   ]
  },
  {
   "cell_type": "code",
   "execution_count": 24,
   "id": "df6482ca",
   "metadata": {
    "scrolled": true
   },
   "outputs": [],
   "source": [
    "#df.director.fillna(\"other\", inplace=True)"
   ]
  },
  {
   "cell_type": "code",
   "execution_count": 25,
   "id": "74140be3",
   "metadata": {},
   "outputs": [],
   "source": [
    "#df.director.value_counts()"
   ]
  },
  {
   "cell_type": "markdown",
   "id": "daf0128e",
   "metadata": {},
   "source": [
    "# how many movies are made each year"
   ]
  },
  {
   "cell_type": "code",
   "execution_count": 22,
   "id": "e27be9b8",
   "metadata": {},
   "outputs": [],
   "source": [
    "movie_year = df['release_year'].value_counts().sort_index()"
   ]
  },
  {
   "cell_type": "code",
   "execution_count": 23,
   "id": "748de53a",
   "metadata": {},
   "outputs": [
    {
     "data": {
      "image/png": "[encoded data removed]",
      "text/plain": [
       "<Figure size 1500x700 with 1 Axes>"
      ]
     },
     "metadata": {},
     "output_type": "display_data"
    }
   ],
   "source": [
    "plt.figure(figsize=(15, 7))\n",
    "\n",
    "plt.title('number of movies made each year')\n",
    "#plt.bar(missing.keys(),missing.values)\n",
    "plt.bar_label(plt.bar(movie_year.keys(),movie_year.values)) #dislays the actual value above each bar\n",
    "plt.xticks(rotation=45)\n",
    "plt.tight_layout()\n",
    "plt.show()"
   ]
  },
  {
   "cell_type": "markdown",
   "id": "8b4e447a",
   "metadata": {},
   "source": [
    "# movies with highes revenue"
   ]
  },
  {
   "cell_type": "code",
   "execution_count": 24,
   "id": "5184bce9",
   "metadata": {},
   "outputs": [
    {
     "data": {
      "text/html": [
       "<div>\n",
       "<style scoped>\n",
       "    .dataframe tbody tr th:only-of-type {\n",
       "        vertical-align: middle;\n",
       "    }\n",
       "\n",
       "    .dataframe tbody tr th {\n",
       "        vertical-align: top;\n",
       "    }\n",
       "\n",
       "    .dataframe thead th {\n",
       "        text-align: right;\n",
       "    }\n",
       "</style>\n",
       "<table border=\"1\" class=\"dataframe\">\n",
       "  <thead>\n",
       "    <tr style=\"text-align: right;\">\n",
       "      <th></th>\n",
       "      <th>original_title</th>\n",
       "      <th>revenue</th>\n",
       "      <th>budget</th>\n",
       "      <th>popularity</th>\n",
       "      <th>genres</th>\n",
       "      <th>release_year</th>\n",
       "      <th>director</th>\n",
       "      <th>production_companies</th>\n",
       "    </tr>\n",
       "  </thead>\n",
       "  <tbody>\n",
       "    <tr>\n",
       "      <th>1386</th>\n",
       "      <td>Avatar</td>\n",
       "      <td>2.781506e+09</td>\n",
       "      <td>237000000.0</td>\n",
       "      <td>9.432768</td>\n",
       "      <td>Action|Adventure|Fantasy|Science Fiction</td>\n",
       "      <td>2009</td>\n",
       "      <td>James Cameron</td>\n",
       "      <td>Ingenious Film Partners|Twentieth Century Fox ...</td>\n",
       "    </tr>\n",
       "    <tr>\n",
       "      <th>3</th>\n",
       "      <td>Star Wars: The Force Awakens</td>\n",
       "      <td>2.068178e+09</td>\n",
       "      <td>200000000.0</td>\n",
       "      <td>11.173104</td>\n",
       "      <td>Action|Adventure|Science Fiction|Fantasy</td>\n",
       "      <td>2015</td>\n",
       "      <td>J.J. Abrams</td>\n",
       "      <td>Lucasfilm|Truenorth Productions|Bad Robot</td>\n",
       "    </tr>\n",
       "    <tr>\n",
       "      <th>5231</th>\n",
       "      <td>Titanic</td>\n",
       "      <td>1.845034e+09</td>\n",
       "      <td>200000000.0</td>\n",
       "      <td>4.355219</td>\n",
       "      <td>Drama|Romance|Thriller</td>\n",
       "      <td>1997</td>\n",
       "      <td>James Cameron</td>\n",
       "      <td>Paramount Pictures|Twentieth Century Fox Film ...</td>\n",
       "    </tr>\n",
       "    <tr>\n",
       "      <th>4361</th>\n",
       "      <td>The Avengers</td>\n",
       "      <td>1.519558e+09</td>\n",
       "      <td>220000000.0</td>\n",
       "      <td>7.637767</td>\n",
       "      <td>Science Fiction|Action|Adventure</td>\n",
       "      <td>2012</td>\n",
       "      <td>Joss Whedon</td>\n",
       "      <td>Marvel Studios</td>\n",
       "    </tr>\n",
       "    <tr>\n",
       "      <th>0</th>\n",
       "      <td>Jurassic World</td>\n",
       "      <td>1.513529e+09</td>\n",
       "      <td>150000000.0</td>\n",
       "      <td>32.985763</td>\n",
       "      <td>Action|Adventure|Science Fiction|Thriller</td>\n",
       "      <td>2015</td>\n",
       "      <td>Colin Trevorrow</td>\n",
       "      <td>Universal Studios|Amblin Entertainment|Legenda...</td>\n",
       "    </tr>\n",
       "    <tr>\n",
       "      <th>4</th>\n",
       "      <td>Furious 7</td>\n",
       "      <td>1.506249e+09</td>\n",
       "      <td>190000000.0</td>\n",
       "      <td>9.335014</td>\n",
       "      <td>Action|Crime|Thriller</td>\n",
       "      <td>2015</td>\n",
       "      <td>James Wan</td>\n",
       "      <td>Universal Pictures|Original Film|Media Rights ...</td>\n",
       "    </tr>\n",
       "    <tr>\n",
       "      <th>14</th>\n",
       "      <td>Avengers: Age of Ultron</td>\n",
       "      <td>1.405036e+09</td>\n",
       "      <td>280000000.0</td>\n",
       "      <td>5.944927</td>\n",
       "      <td>Action|Adventure|Science Fiction</td>\n",
       "      <td>2015</td>\n",
       "      <td>Joss Whedon</td>\n",
       "      <td>Marvel Studios|Prime Focus|Revolution Sun Studios</td>\n",
       "    </tr>\n",
       "    <tr>\n",
       "      <th>3374</th>\n",
       "      <td>Harry Potter and the Deathly Hallows: Part 2</td>\n",
       "      <td>1.327818e+09</td>\n",
       "      <td>125000000.0</td>\n",
       "      <td>5.711315</td>\n",
       "      <td>Adventure|Family|Fantasy</td>\n",
       "      <td>2011</td>\n",
       "      <td>David Yates</td>\n",
       "      <td>Warner Bros.|Heyday Films|Moving Picture Compa...</td>\n",
       "    </tr>\n",
       "    <tr>\n",
       "      <th>5422</th>\n",
       "      <td>Frozen</td>\n",
       "      <td>1.274219e+09</td>\n",
       "      <td>150000000.0</td>\n",
       "      <td>6.112766</td>\n",
       "      <td>Animation|Adventure|Family</td>\n",
       "      <td>2013</td>\n",
       "      <td>Chris Buck|Jennifer Lee</td>\n",
       "      <td>Walt Disney Pictures|Walt Disney Animation Stu...</td>\n",
       "    </tr>\n",
       "    <tr>\n",
       "      <th>5425</th>\n",
       "      <td>Iron Man 3</td>\n",
       "      <td>1.215440e+09</td>\n",
       "      <td>200000000.0</td>\n",
       "      <td>4.946136</td>\n",
       "      <td>Action|Adventure|Science Fiction</td>\n",
       "      <td>2013</td>\n",
       "      <td>Shane Black</td>\n",
       "      <td>Marvel Studios</td>\n",
       "    </tr>\n",
       "  </tbody>\n",
       "</table>\n",
       "</div>"
      ],
      "text/plain": [
       "                                    original_title       revenue       budget  \\\n",
       "1386                                        Avatar  2.781506e+09  237000000.0   \n",
       "3                     Star Wars: The Force Awakens  2.068178e+09  200000000.0   \n",
       "5231                                       Titanic  1.845034e+09  200000000.0   \n",
       "4361                                  The Avengers  1.519558e+09  220000000.0   \n",
       "0                                   Jurassic World  1.513529e+09  150000000.0   \n",
       "4                                        Furious 7  1.506249e+09  190000000.0   \n",
       "14                         Avengers: Age of Ultron  1.405036e+09  280000000.0   \n",
       "3374  Harry Potter and the Deathly Hallows: Part 2  1.327818e+09  125000000.0   \n",
       "5422                                        Frozen  1.274219e+09  150000000.0   \n",
       "5425                                    Iron Man 3  1.215440e+09  200000000.0   \n",
       "\n",
       "      popularity                                     genres  release_year  \\\n",
       "1386    9.432768   Action|Adventure|Fantasy|Science Fiction          2009   \n",
       "3      11.173104   Action|Adventure|Science Fiction|Fantasy          2015   \n",
       "5231    4.355219                     Drama|Romance|Thriller          1997   \n",
       "4361    7.637767           Science Fiction|Action|Adventure          2012   \n",
       "0      32.985763  Action|Adventure|Science Fiction|Thriller          2015   \n",
       "4       9.335014                      Action|Crime|Thriller          2015   \n",
       "14      5.944927           Action|Adventure|Science Fiction          2015   \n",
       "3374    5.711315                   Adventure|Family|Fantasy          2011   \n",
       "5422    6.112766                 Animation|Adventure|Family          2013   \n",
       "5425    4.946136           Action|Adventure|Science Fiction          2013   \n",
       "\n",
       "                     director  \\\n",
       "1386            James Cameron   \n",
       "3                 J.J. Abrams   \n",
       "5231            James Cameron   \n",
       "4361              Joss Whedon   \n",
       "0             Colin Trevorrow   \n",
       "4                   James Wan   \n",
       "14                Joss Whedon   \n",
       "3374              David Yates   \n",
       "5422  Chris Buck|Jennifer Lee   \n",
       "5425              Shane Black   \n",
       "\n",
       "                                   production_companies  \n",
       "1386  Ingenious Film Partners|Twentieth Century Fox ...  \n",
       "3             Lucasfilm|Truenorth Productions|Bad Robot  \n",
       "5231  Paramount Pictures|Twentieth Century Fox Film ...  \n",
       "4361                                     Marvel Studios  \n",
       "0     Universal Studios|Amblin Entertainment|Legenda...  \n",
       "4     Universal Pictures|Original Film|Media Rights ...  \n",
       "14    Marvel Studios|Prime Focus|Revolution Sun Studios  \n",
       "3374  Warner Bros.|Heyday Films|Moving Picture Compa...  \n",
       "5422  Walt Disney Pictures|Walt Disney Animation Stu...  \n",
       "5425                                     Marvel Studios  "
      ]
     },
     "execution_count": 24,
     "metadata": {},
     "output_type": "execute_result"
    }
   ],
   "source": [
    "df.sort_values(by=\"revenue\",ascending=False)[['original_title','revenue','budget', 'popularity', 'genres', 'release_year', 'director', 'production_companies']].head(10)"
   ]
  },
  {
   "cell_type": "markdown",
   "id": "97744926",
   "metadata": {},
   "source": [
    "# Which movies have the biggest budget?"
   ]
  },
  {
   "cell_type": "code",
   "execution_count": 25,
   "id": "0f8a0dfe",
   "metadata": {},
   "outputs": [
    {
     "data": {
      "text/html": [
       "<div>\n",
       "<style scoped>\n",
       "    .dataframe tbody tr th:only-of-type {\n",
       "        vertical-align: middle;\n",
       "    }\n",
       "\n",
       "    .dataframe tbody tr th {\n",
       "        vertical-align: top;\n",
       "    }\n",
       "\n",
       "    .dataframe thead th {\n",
       "        text-align: right;\n",
       "    }\n",
       "</style>\n",
       "<table border=\"1\" class=\"dataframe\">\n",
       "  <thead>\n",
       "    <tr style=\"text-align: right;\">\n",
       "      <th></th>\n",
       "      <th>original_title</th>\n",
       "      <th>revenue</th>\n",
       "      <th>budget</th>\n",
       "      <th>popularity</th>\n",
       "      <th>genres</th>\n",
       "      <th>release_year</th>\n",
       "      <th>director</th>\n",
       "      <th>production_companies</th>\n",
       "    </tr>\n",
       "  </thead>\n",
       "  <tbody>\n",
       "    <tr>\n",
       "      <th>2244</th>\n",
       "      <td>The Warrior's Way</td>\n",
       "      <td>1.108757e+07</td>\n",
       "      <td>425000000.0</td>\n",
       "      <td>0.250540</td>\n",
       "      <td>Adventure|Fantasy|Action|Western|Thriller</td>\n",
       "      <td>2010</td>\n",
       "      <td>Sngmoo Lee</td>\n",
       "      <td>Boram Entertainment Inc.</td>\n",
       "    </tr>\n",
       "    <tr>\n",
       "      <th>3375</th>\n",
       "      <td>Pirates of the Caribbean: On Stranger Tides</td>\n",
       "      <td>1.021683e+09</td>\n",
       "      <td>380000000.0</td>\n",
       "      <td>4.955130</td>\n",
       "      <td>Adventure|Action|Fantasy</td>\n",
       "      <td>2011</td>\n",
       "      <td>Rob Marshall</td>\n",
       "      <td>Walt Disney Pictures|Jerry Bruckheimer Films|M...</td>\n",
       "    </tr>\n",
       "    <tr>\n",
       "      <th>7387</th>\n",
       "      <td>Pirates of the Caribbean: At World's End</td>\n",
       "      <td>9.610000e+08</td>\n",
       "      <td>300000000.0</td>\n",
       "      <td>4.965391</td>\n",
       "      <td>Adventure|Fantasy|Action</td>\n",
       "      <td>2007</td>\n",
       "      <td>Gore Verbinski</td>\n",
       "      <td>Walt Disney Pictures|Jerry Bruckheimer Films|S...</td>\n",
       "    </tr>\n",
       "    <tr>\n",
       "      <th>14</th>\n",
       "      <td>Avengers: Age of Ultron</td>\n",
       "      <td>1.405036e+09</td>\n",
       "      <td>280000000.0</td>\n",
       "      <td>5.944927</td>\n",
       "      <td>Action|Adventure|Science Fiction</td>\n",
       "      <td>2015</td>\n",
       "      <td>Joss Whedon</td>\n",
       "      <td>Marvel Studios|Prime Focus|Revolution Sun Studios</td>\n",
       "    </tr>\n",
       "    <tr>\n",
       "      <th>6570</th>\n",
       "      <td>Superman Returns</td>\n",
       "      <td>3.910812e+08</td>\n",
       "      <td>270000000.0</td>\n",
       "      <td>1.957331</td>\n",
       "      <td>Adventure|Fantasy|Action|Science Fiction</td>\n",
       "      <td>2006</td>\n",
       "      <td>Bryan Singer</td>\n",
       "      <td>DC Comics|Legendary Pictures|Warner Bros.|Bad ...</td>\n",
       "    </tr>\n",
       "    <tr>\n",
       "      <th>4411</th>\n",
       "      <td>John Carter</td>\n",
       "      <td>2.841391e+08</td>\n",
       "      <td>260000000.0</td>\n",
       "      <td>1.588457</td>\n",
       "      <td>Action|Adventure|Fantasy|Science Fiction</td>\n",
       "      <td>2012</td>\n",
       "      <td>Andrew Stanton</td>\n",
       "      <td>Walt Disney Pictures</td>\n",
       "    </tr>\n",
       "    <tr>\n",
       "      <th>1929</th>\n",
       "      <td>Tangled</td>\n",
       "      <td>5.917949e+08</td>\n",
       "      <td>260000000.0</td>\n",
       "      <td>2.865684</td>\n",
       "      <td>Animation|Family</td>\n",
       "      <td>2010</td>\n",
       "      <td>Nathan Greno|Byron Howard</td>\n",
       "      <td>Walt Disney Pictures|Walt Disney Animation Stu...</td>\n",
       "    </tr>\n",
       "    <tr>\n",
       "      <th>7394</th>\n",
       "      <td>Spider-Man 3</td>\n",
       "      <td>8.908716e+08</td>\n",
       "      <td>258000000.0</td>\n",
       "      <td>2.520912</td>\n",
       "      <td>Fantasy|Action|Adventure</td>\n",
       "      <td>2007</td>\n",
       "      <td>Sam Raimi</td>\n",
       "      <td>Columbia Pictures|Laura Ziskin Productions|Mar...</td>\n",
       "    </tr>\n",
       "    <tr>\n",
       "      <th>5508</th>\n",
       "      <td>The Lone Ranger</td>\n",
       "      <td>8.928991e+07</td>\n",
       "      <td>255000000.0</td>\n",
       "      <td>1.214510</td>\n",
       "      <td>Action|Adventure|Western</td>\n",
       "      <td>2013</td>\n",
       "      <td>Gore Verbinski</td>\n",
       "      <td>Walt Disney Pictures|Jerry Bruckheimer Films|I...</td>\n",
       "    </tr>\n",
       "    <tr>\n",
       "      <th>1923</th>\n",
       "      <td>Harry Potter and the Deathly Hallows: Part 1</td>\n",
       "      <td>9.543059e+08</td>\n",
       "      <td>250000000.0</td>\n",
       "      <td>4.840588</td>\n",
       "      <td>Adventure|Fantasy|Family</td>\n",
       "      <td>2010</td>\n",
       "      <td>David Yates</td>\n",
       "      <td>Warner Bros.|Heyday Films</td>\n",
       "    </tr>\n",
       "  </tbody>\n",
       "</table>\n",
       "</div>"
      ],
      "text/plain": [
       "                                    original_title       revenue       budget  \\\n",
       "2244                             The Warrior's Way  1.108757e+07  425000000.0   \n",
       "3375   Pirates of the Caribbean: On Stranger Tides  1.021683e+09  380000000.0   \n",
       "7387      Pirates of the Caribbean: At World's End  9.610000e+08  300000000.0   \n",
       "14                         Avengers: Age of Ultron  1.405036e+09  280000000.0   \n",
       "6570                              Superman Returns  3.910812e+08  270000000.0   \n",
       "4411                                   John Carter  2.841391e+08  260000000.0   \n",
       "1929                                       Tangled  5.917949e+08  260000000.0   \n",
       "7394                                  Spider-Man 3  8.908716e+08  258000000.0   \n",
       "5508                               The Lone Ranger  8.928991e+07  255000000.0   \n",
       "1923  Harry Potter and the Deathly Hallows: Part 1  9.543059e+08  250000000.0   \n",
       "\n",
       "      popularity                                     genres  release_year  \\\n",
       "2244    0.250540  Adventure|Fantasy|Action|Western|Thriller          2010   \n",
       "3375    4.955130                   Adventure|Action|Fantasy          2011   \n",
       "7387    4.965391                   Adventure|Fantasy|Action          2007   \n",
       "14      5.944927           Action|Adventure|Science Fiction          2015   \n",
       "6570    1.957331   Adventure|Fantasy|Action|Science Fiction          2006   \n",
       "4411    1.588457   Action|Adventure|Fantasy|Science Fiction          2012   \n",
       "1929    2.865684                           Animation|Family          2010   \n",
       "7394    2.520912                   Fantasy|Action|Adventure          2007   \n",
       "5508    1.214510                   Action|Adventure|Western          2013   \n",
       "1923    4.840588                   Adventure|Fantasy|Family          2010   \n",
       "\n",
       "                       director  \\\n",
       "2244                 Sngmoo Lee   \n",
       "3375               Rob Marshall   \n",
       "7387             Gore Verbinski   \n",
       "14                  Joss Whedon   \n",
       "6570               Bryan Singer   \n",
       "4411             Andrew Stanton   \n",
       "1929  Nathan Greno|Byron Howard   \n",
       "7394                  Sam Raimi   \n",
       "5508             Gore Verbinski   \n",
       "1923                David Yates   \n",
       "\n",
       "                                   production_companies  \n",
       "2244                           Boram Entertainment Inc.  \n",
       "3375  Walt Disney Pictures|Jerry Bruckheimer Films|M...  \n",
       "7387  Walt Disney Pictures|Jerry Bruckheimer Films|S...  \n",
       "14    Marvel Studios|Prime Focus|Revolution Sun Studios  \n",
       "6570  DC Comics|Legendary Pictures|Warner Bros.|Bad ...  \n",
       "4411                               Walt Disney Pictures  \n",
       "1929  Walt Disney Pictures|Walt Disney Animation Stu...  \n",
       "7394  Columbia Pictures|Laura Ziskin Productions|Mar...  \n",
       "5508  Walt Disney Pictures|Jerry Bruckheimer Films|I...  \n",
       "1923                          Warner Bros.|Heyday Films  "
      ]
     },
     "execution_count": 25,
     "metadata": {},
     "output_type": "execute_result"
    }
   ],
   "source": [
    "df.sort_values(by=\"budget\", ascending=False)[['original_title','revenue','budget', 'popularity', 'genres', 'release_year', 'director', 'production_companies']].head(10)"
   ]
  },
  {
   "cell_type": "markdown",
   "id": "2fea5104",
   "metadata": {},
   "source": [
    "# Who are the most successful directors? Who made the most movies?"
   ]
  },
  {
   "cell_type": "markdown",
   "id": "4c3c9584",
   "metadata": {},
   "source": [
    "## Who made the most movies?"
   ]
  },
  {
   "cell_type": "code",
   "execution_count": 26,
   "id": "8d2a691d",
   "metadata": {
    "scrolled": true
   },
   "outputs": [
    {
     "data": {
      "text/plain": [
       "Woody Allen          45\n",
       "Clint Eastwood       34\n",
       "Martin Scorsese      29\n",
       "Steven Spielberg     29\n",
       "Ridley Scott         23\n",
       "Steven Soderbergh    22\n",
       "Ron Howard           22\n",
       "Joel Schumacher      21\n",
       "Brian De Palma       20\n",
       "Tim Burton           19\n",
       "Name: director, dtype: int64"
      ]
     },
     "execution_count": 26,
     "metadata": {},
     "output_type": "execute_result"
    }
   ],
   "source": [
    "df.director.value_counts().head(10)"
   ]
  },
  {
   "cell_type": "markdown",
   "id": "24bfa32b",
   "metadata": {},
   "source": [
    "## the most successful directors are the ones who made the biggest net"
   ]
  },
  {
   "cell_type": "code",
   "execution_count": 27,
   "id": "6fc04fd4",
   "metadata": {},
   "outputs": [],
   "source": [
    "group = df.groupby('director')"
   ]
  },
  {
   "cell_type": "code",
   "execution_count": 28,
   "id": "8cf33c64",
   "metadata": {},
   "outputs": [
    {
     "data": {
      "text/plain": [
       "budget     1.251665e+09\n",
       "revenue    3.666779e+09\n",
       "dtype: float64"
      ]
     },
     "execution_count": 28,
     "metadata": {},
     "output_type": "execute_result"
    }
   ],
   "source": [
    "g = group.get_group(\"Ron Howard\")\n",
    "g[[\"budget\",\"revenue\"]].sum()"
   ]
  },
  {
   "cell_type": "code",
   "execution_count": 30,
   "id": "82ff0ab5",
   "metadata": {},
   "outputs": [
    {
     "data": {
      "text/html": [
       "<div>\n",
       "<style scoped>\n",
       "    .dataframe tbody tr th:only-of-type {\n",
       "        vertical-align: middle;\n",
       "    }\n",
       "\n",
       "    .dataframe tbody tr th {\n",
       "        vertical-align: top;\n",
       "    }\n",
       "\n",
       "    .dataframe thead th {\n",
       "        text-align: right;\n",
       "    }\n",
       "</style>\n",
       "<table border=\"1\" class=\"dataframe\">\n",
       "  <thead>\n",
       "    <tr style=\"text-align: right;\">\n",
       "      <th></th>\n",
       "      <th>director</th>\n",
       "      <th>net</th>\n",
       "    </tr>\n",
       "  </thead>\n",
       "  <tbody>\n",
       "    <tr>\n",
       "      <th>4601</th>\n",
       "      <td>Steven Spielberg</td>\n",
       "      <td>7.463673e+09</td>\n",
       "    </tr>\n",
       "    <tr>\n",
       "      <th>3800</th>\n",
       "      <td>Peter Jackson</td>\n",
       "      <td>5.261866e+09</td>\n",
       "    </tr>\n",
       "    <tr>\n",
       "      <th>1997</th>\n",
       "      <td>James Cameron</td>\n",
       "      <td>5.126159e+09</td>\n",
       "    </tr>\n",
       "    <tr>\n",
       "      <th>3284</th>\n",
       "      <td>Michael Bay</td>\n",
       "      <td>3.557208e+09</td>\n",
       "    </tr>\n",
       "    <tr>\n",
       "      <th>1203</th>\n",
       "      <td>David Yates</td>\n",
       "      <td>3.404498e+09</td>\n",
       "    </tr>\n",
       "    <tr>\n",
       "      <th>763</th>\n",
       "      <td>Chris Columbus</td>\n",
       "      <td>3.256808e+09</td>\n",
       "    </tr>\n",
       "    <tr>\n",
       "      <th>845</th>\n",
       "      <td>Christopher Nolan</td>\n",
       "      <td>3.217078e+09</td>\n",
       "    </tr>\n",
       "    <tr>\n",
       "      <th>1679</th>\n",
       "      <td>George Lucas</td>\n",
       "      <td>2.955997e+09</td>\n",
       "    </tr>\n",
       "    <tr>\n",
       "      <th>4140</th>\n",
       "      <td>Robert Zemeckis</td>\n",
       "      <td>2.899924e+09</td>\n",
       "    </tr>\n",
       "    <tr>\n",
       "      <th>1942</th>\n",
       "      <td>J.J. Abrams</td>\n",
       "      <td>2.839170e+09</td>\n",
       "    </tr>\n",
       "  </tbody>\n",
       "</table>\n",
       "</div>"
      ],
      "text/plain": [
       "               director           net\n",
       "4601   Steven Spielberg  7.463673e+09\n",
       "3800      Peter Jackson  5.261866e+09\n",
       "1997      James Cameron  5.126159e+09\n",
       "3284        Michael Bay  3.557208e+09\n",
       "1203        David Yates  3.404498e+09\n",
       "763      Chris Columbus  3.256808e+09\n",
       "845   Christopher Nolan  3.217078e+09\n",
       "1679       George Lucas  2.955997e+09\n",
       "4140    Robert Zemeckis  2.899924e+09\n",
       "1942        J.J. Abrams  2.839170e+09"
      ]
     },
     "execution_count": 30,
     "metadata": {},
     "output_type": "execute_result"
    }
   ],
   "source": [
    "directors = []\n",
    "nets = []\n",
    "for director,director_df in group:\n",
    "    net = director_df.revenue.sum() - director_df.budget.sum()\n",
    "    directors.append(director)\n",
    "    nets.append(net)\n",
    "ddf = pd.DataFrame({\n",
    "    \"director\": directors,\n",
    "    \"net\": nets\n",
    "})    \n",
    "ddf.sort_values(by='net', ascending=False).head(10)  "
   ]
  },
  {
   "cell_type": "markdown",
   "id": "556b8eea",
   "metadata": {},
   "source": [
    "# What is the ideal movie length?"
   ]
  },
  {
   "cell_type": "code",
   "execution_count": 31,
   "id": "eecd0d18",
   "metadata": {},
   "outputs": [
    {
     "data": {
      "text/html": [
       "<div>\n",
       "<style scoped>\n",
       "    .dataframe tbody tr th:only-of-type {\n",
       "        vertical-align: middle;\n",
       "    }\n",
       "\n",
       "    .dataframe tbody tr th {\n",
       "        vertical-align: top;\n",
       "    }\n",
       "\n",
       "    .dataframe thead th {\n",
       "        text-align: right;\n",
       "    }\n",
       "</style>\n",
       "<table border=\"1\" class=\"dataframe\">\n",
       "  <thead>\n",
       "    <tr style=\"text-align: right;\">\n",
       "      <th></th>\n",
       "      <th>index</th>\n",
       "      <th>original_title</th>\n",
       "      <th>popularity</th>\n",
       "      <th>revenue</th>\n",
       "      <th>budget</th>\n",
       "      <th>runtime</th>\n",
       "    </tr>\n",
       "  </thead>\n",
       "  <tbody>\n",
       "    <tr>\n",
       "      <th>0</th>\n",
       "      <td>0</td>\n",
       "      <td>Jurassic World</td>\n",
       "      <td>32.985763</td>\n",
       "      <td>1.513529e+09</td>\n",
       "      <td>150000000.0</td>\n",
       "      <td>124</td>\n",
       "    </tr>\n",
       "    <tr>\n",
       "      <th>1</th>\n",
       "      <td>1</td>\n",
       "      <td>Mad Max: Fury Road</td>\n",
       "      <td>28.419936</td>\n",
       "      <td>3.784364e+08</td>\n",
       "      <td>150000000.0</td>\n",
       "      <td>120</td>\n",
       "    </tr>\n",
       "    <tr>\n",
       "      <th>2</th>\n",
       "      <td>629</td>\n",
       "      <td>Interstellar</td>\n",
       "      <td>24.949134</td>\n",
       "      <td>6.217525e+08</td>\n",
       "      <td>165000000.0</td>\n",
       "      <td>169</td>\n",
       "    </tr>\n",
       "    <tr>\n",
       "      <th>3</th>\n",
       "      <td>630</td>\n",
       "      <td>Guardians of the Galaxy</td>\n",
       "      <td>14.311205</td>\n",
       "      <td>7.733124e+08</td>\n",
       "      <td>170000000.0</td>\n",
       "      <td>121</td>\n",
       "    </tr>\n",
       "    <tr>\n",
       "      <th>4</th>\n",
       "      <td>2</td>\n",
       "      <td>Insurgent</td>\n",
       "      <td>13.112507</td>\n",
       "      <td>2.952382e+08</td>\n",
       "      <td>110000000.0</td>\n",
       "      <td>119</td>\n",
       "    </tr>\n",
       "    <tr>\n",
       "      <th>5</th>\n",
       "      <td>631</td>\n",
       "      <td>Captain America: The Winter Soldier</td>\n",
       "      <td>12.971027</td>\n",
       "      <td>7.147666e+08</td>\n",
       "      <td>170000000.0</td>\n",
       "      <td>136</td>\n",
       "    </tr>\n",
       "    <tr>\n",
       "      <th>6</th>\n",
       "      <td>1329</td>\n",
       "      <td>Star Wars</td>\n",
       "      <td>12.037933</td>\n",
       "      <td>7.753980e+08</td>\n",
       "      <td>11000000.0</td>\n",
       "      <td>121</td>\n",
       "    </tr>\n",
       "    <tr>\n",
       "      <th>7</th>\n",
       "      <td>632</td>\n",
       "      <td>John Wick</td>\n",
       "      <td>11.422751</td>\n",
       "      <td>7.873990e+07</td>\n",
       "      <td>20000000.0</td>\n",
       "      <td>101</td>\n",
       "    </tr>\n",
       "    <tr>\n",
       "      <th>8</th>\n",
       "      <td>3</td>\n",
       "      <td>Star Wars: The Force Awakens</td>\n",
       "      <td>11.173104</td>\n",
       "      <td>2.068178e+09</td>\n",
       "      <td>200000000.0</td>\n",
       "      <td>136</td>\n",
       "    </tr>\n",
       "    <tr>\n",
       "      <th>9</th>\n",
       "      <td>633</td>\n",
       "      <td>The Hunger Games: Mockingjay - Part 1</td>\n",
       "      <td>10.739009</td>\n",
       "      <td>7.521002e+08</td>\n",
       "      <td>125000000.0</td>\n",
       "      <td>123</td>\n",
       "    </tr>\n",
       "  </tbody>\n",
       "</table>\n",
       "</div>"
      ],
      "text/plain": [
       "   index                         original_title  popularity       revenue  \\\n",
       "0      0                         Jurassic World   32.985763  1.513529e+09   \n",
       "1      1                     Mad Max: Fury Road   28.419936  3.784364e+08   \n",
       "2    629                           Interstellar   24.949134  6.217525e+08   \n",
       "3    630                Guardians of the Galaxy   14.311205  7.733124e+08   \n",
       "4      2                              Insurgent   13.112507  2.952382e+08   \n",
       "5    631    Captain America: The Winter Soldier   12.971027  7.147666e+08   \n",
       "6   1329                              Star Wars   12.037933  7.753980e+08   \n",
       "7    632                              John Wick   11.422751  7.873990e+07   \n",
       "8      3           Star Wars: The Force Awakens   11.173104  2.068178e+09   \n",
       "9    633  The Hunger Games: Mockingjay - Part 1   10.739009  7.521002e+08   \n",
       "\n",
       "        budget  runtime  \n",
       "0  150000000.0      124  \n",
       "1  150000000.0      120  \n",
       "2  165000000.0      169  \n",
       "3  170000000.0      121  \n",
       "4  110000000.0      119  \n",
       "5  170000000.0      136  \n",
       "6   11000000.0      121  \n",
       "7   20000000.0      101  \n",
       "8  200000000.0      136  \n",
       "9  125000000.0      123  "
      ]
     },
     "execution_count": 31,
     "metadata": {},
     "output_type": "execute_result"
    }
   ],
   "source": [
    "popular_movies= df.sort_values(by=\"popularity\", ascending=False)[[\"original_title\",\"popularity\",\"revenue\",\"budget\",\"runtime\"]].head(10).reset_index()\n",
    "popular_movies"
   ]
  },
  {
   "cell_type": "code",
   "execution_count": 32,
   "id": "5a6f5160",
   "metadata": {},
   "outputs": [
    {
     "name": "stdout",
     "output_type": "stream",
     "text": [
      "the ideal movie length is 127 minutes\n"
     ]
    }
   ],
   "source": [
    "mean_runtime = int(popular_movies[\"runtime\"].mean())\n",
    "print('the ideal movie length is '+str(mean_runtime)+' minutes')"
   ]
  },
  {
   "cell_type": "code",
   "execution_count": 33,
   "id": "6c385c9e",
   "metadata": {},
   "outputs": [
    {
     "data": {
      "text/plain": [
       "127.0"
      ]
     },
     "execution_count": 33,
     "metadata": {},
     "output_type": "execute_result"
    }
   ],
   "source": [
    "#second method\n",
    "df.loc[df['popularity'].nlargest(10).keys()][\"runtime\"].mean()"
   ]
  },
  {
   "cell_type": "markdown",
   "id": "1aa6df1d",
   "metadata": {},
   "source": [
    "# What are the most common genres"
   ]
  },
  {
   "cell_type": "code",
   "execution_count": 34,
   "id": "5f6a9938",
   "metadata": {},
   "outputs": [],
   "source": [
    "df[\"genres\"].fillna(\"other\", inplace=True)\n"
   ]
  },
  {
   "cell_type": "code",
   "execution_count": 35,
   "id": "94922edf",
   "metadata": {},
   "outputs": [
    {
     "data": {
      "text/plain": [
       "0        Action|Adventure|Science Fiction|Thriller\n",
       "1        Action|Adventure|Science Fiction|Thriller\n",
       "2               Adventure|Science Fiction|Thriller\n",
       "3         Action|Adventure|Science Fiction|Fantasy\n",
       "4                            Action|Crime|Thriller\n",
       "                           ...                    \n",
       "10861                                  Documentary\n",
       "10862                       Action|Adventure|Drama\n",
       "10863                               Mystery|Comedy\n",
       "10864                                Action|Comedy\n",
       "10865                                       Horror\n",
       "Name: genres, Length: 10865, dtype: object"
      ]
     },
     "execution_count": 35,
     "metadata": {},
     "output_type": "execute_result"
    }
   ],
   "source": [
    "df[\"genres\"]"
   ]
  },
  {
   "cell_type": "code",
   "execution_count": 36,
   "id": "49eff4e4",
   "metadata": {},
   "outputs": [],
   "source": [
    "arr = df[\"genres\"].values"
   ]
  },
  {
   "cell_type": "code",
   "execution_count": 37,
   "id": "af3184aa",
   "metadata": {},
   "outputs": [
    {
     "name": "stdout",
     "output_type": "stream",
     "text": [
      "['Action', 'Adventure', 'Science Fiction', 'Thriller', 'Action', 'Adventure', 'Science Fiction', 'Thriller', 'Adventure', 'Science Fiction', 'Thriller', 'Action', 'Adventure', 'Science Fiction', 'Fantasy', 'Action', 'Crime', 'Thriller', 'Western', 'Drama', 'Adventure', 'Thriller', 'Science Fiction', 'Action', 'Thriller', 'Adventure', 'Drama', 'Adventure', 'Science Fiction', 'Family', 'Animation', 'Adventure', 'Comedy', 'Comedy', 'Animation', 'Family']\n"
     ]
    }
   ],
   "source": [
    "genres = []\n",
    "for i,comp in enumerate(arr):\n",
    "    if (i<10):\n",
    "        s = comp.split('|')\n",
    "        for g in s:\n",
    "            genres.append(g)\n",
    "print(genres)      \n"
   ]
  },
  {
   "cell_type": "code",
   "execution_count": 38,
   "id": "afa983b3",
   "metadata": {},
   "outputs": [],
   "source": [
    "genres = []\n",
    "for comp in arr:\n",
    "    s = comp.split('|')\n",
    "    for g in s:\n",
    "        genres.append(g)"
   ]
  },
  {
   "cell_type": "code",
   "execution_count": 39,
   "id": "72d6ad58",
   "metadata": {},
   "outputs": [
    {
     "name": "stdout",
     "output_type": "stream",
     "text": [
      "Index(['Drama', 'Comedy', 'Thriller', 'Action', 'Romance', 'Horror',\n",
      "       'Adventure', 'Crime', 'Family', 'Science Fiction', 'Fantasy', 'Mystery',\n",
      "       'Animation', 'Documentary', 'Music', 'History', 'War', 'Foreign',\n",
      "       'TV Movie', 'Western', 'other'],\n",
      "      dtype='object') [4760 3793 2907 2384 1712 1637 1471 1354 1231 1229  916  810  699  520\n",
      "  408  334  270  188  167  165   23]\n"
     ]
    }
   ],
   "source": [
    "gg = pd.DataFrame(genres, columns=['genres'])\n",
    "genre= gg['genres'].value_counts().keys()\n",
    "counts = gg.value_counts().values\n",
    "print(genre , counts)"
   ]
  },
  {
   "cell_type": "code",
   "execution_count": 40,
   "id": "b5b608f0",
   "metadata": {},
   "outputs": [
    {
     "data": {
      "image/png": "[encoded data removed]",
      "text/plain": [
       "<Figure size 1000x1600 with 1 Axes>"
      ]
     },
     "metadata": {},
     "output_type": "display_data"
    }
   ],
   "source": [
    "plt.figure(figsize=(10,16))\n",
    "plt.pie(counts,labels=genre, autopct='%1.1f%%')\n",
    "plt.title('genre pourcentage')\n",
    "plt.show()"
   ]
  },
  {
   "cell_type": "code",
   "execution_count": 41,
   "id": "98db4c06",
   "metadata": {},
   "outputs": [
    {
     "name": "stdout",
     "output_type": "stream",
     "text": [
      "Method 1 Execution Time: 0.016954898834228516\n"
     ]
    }
   ],
   "source": [
    "# import time\n",
    "\n",
    "# # Method 1\n",
    "# start_time = time.time()\n",
    "\n",
    "# arr = df[\"genres\"].values\n",
    "# genres = []\n",
    "# for comp in arr:\n",
    "#     s = comp.split('|')\n",
    "#     for g in s:\n",
    "#         genres.append(g)\n",
    "# gg = pd.DataFrame(genres, columns=['genres'])\n",
    "# genre = gg['genres'].value_counts().keys()\n",
    "# counts = gg.value_counts().values\n",
    "\n",
    "# method1_time = time.time() - start_time\n",
    "# print(\"Method 1 Execution Time:\", method1_time)\n"
   ]
  },
  {
   "cell_type": "code",
   "execution_count": 42,
   "id": "562933f2",
   "metadata": {},
   "outputs": [
    {
     "name": "stdout",
     "output_type": "stream",
     "text": [
      "Method 2 Execution Time: 0.1825394630432129\n"
     ]
    }
   ],
   "source": [
    "# start_time = time.time()\n",
    "\n",
    "# compounds = df.genres.unique()\n",
    "# genre_list = []\n",
    "\n",
    "\n",
    "# for compound in compounds:\n",
    "#     genres = compound.split('|')\n",
    "#     for genre in genres:\n",
    "#         if genre not in genre_list:\n",
    "#             genre_list.append(genre)\n",
    "\n",
    "\n",
    "# count = []\n",
    "# for genre in genre_list:\n",
    "#     count.append(df[df['genres'].str.contains(genre, case=False)].shape[0])\n",
    "\n",
    "\n",
    "# sorted_lists = sorted(zip(count, genre_list), reverse=True)\n",
    "# sorted_count, sorted_genre = zip(*sorted_lists)\n",
    "\n",
    "# method2_time = time.time() - start_time\n",
    "# print(\"Method 2 Execution Time:\", method2_time)"
   ]
  },
  {
   "cell_type": "code",
   "execution_count": null,
   "id": "8836dd02",
   "metadata": {},
   "outputs": [],
   "source": []
  }
 ],
 "metadata": {
  "kernelspec": {
   "display_name": "Python 3 (ipykernel)",
   "language": "python",
   "name": "python3"
  },
  "language_info": {
   "codemirror_mode": {
    "name": "ipython",
    "version": 3
   },
   "file_extension": ".py",
   "mimetype": "text/x-python",
   "name": "python",
   "nbconvert_exporter": "python",
   "pygments_lexer": "ipython3",
   "version": "3.10.12"
  }
 },
 "nbformat": 4,
 "nbformat_minor": 5
}
